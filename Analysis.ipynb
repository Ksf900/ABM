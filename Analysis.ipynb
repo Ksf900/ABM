{
 "cells": [
  {
   "cell_type": "markdown",
   "metadata": {},
   "source": [
    "# <font color='LightBlue'> **Transportation Model**</font>\n",
    "\n",
    "<font color='Silver'>\n",
    "Kevin Schaaf ()\n",
    "Haron Malash ()\n",
    "Sanjhana Bhusal ()\n",
    "Martijn Messanella ()\n",
    "Lisa Pahladsingh ()\n",
    "</font>"
   ]
  },
  {
   "cell_type": "code",
   "execution_count": 4,
   "metadata": {},
   "outputs": [],
   "source": [
    "from Simulate import *"
   ]
  },
  {
   "cell_type": "markdown",
   "metadata": {},
   "source": [
    "## <font color='LightGreen'> ***Price***</font>\n",
    "Sanjhana"
   ]
  },
  {
   "cell_type": "code",
   "execution_count": null,
   "metadata": {},
   "outputs": [],
   "source": [
    "islands = [\"Island_A\", \"Island_B\"]\n",
    "\n",
    "\n",
    "simulation = Simulation(\n",
    "    num_commuters=1000,\n",
    "    num_days=60,\n",
    "    islands=islands,\n",
    "    capacity=1000,\n",
    "    ferry_base_price=1,\n",
    "    ferry_base_time=40,\n",
    "    speedboat_base_price=6,\n",
    "    speedboat_base_time=10,\n",
    ")\n",
    "\n",
    "simulation.run()\n",
    "\n",
    "# Plot specific results\n",
    "metrics_to_plot = [\n",
    "    'Ferry_Island_A_Island_B_users',\n",
    "    'Ferry_Island_B_Island_A_users', \n",
    "    'Speedboat_Island_A_Island_B_users', \n",
    "    'Speedboat_Island_B_Island_A_users'\n",
    "]\n",
    "\n",
    "simulation.plot_specific_results(metrics_to_plot)"
   ]
  },
  {
   "cell_type": "markdown",
   "metadata": {},
   "source": [
    "## <font color='LightGreen'> ***Capacity***</font>\n",
    "Kevin"
   ]
  },
  {
   "cell_type": "code",
   "execution_count": null,
   "metadata": {},
   "outputs": [],
   "source": []
  },
  {
   "cell_type": "markdown",
   "metadata": {},
   "source": [
    "## <font color='LightGreen'> ***Number of Islands***</font>\n",
    "Martijn"
   ]
  },
  {
   "cell_type": "code",
   "execution_count": null,
   "metadata": {},
   "outputs": [],
   "source": []
  }
 ],
 "metadata": {
  "kernelspec": {
   "display_name": "ABM-Notebooks-0-1-zOKZDhju",
   "language": "python",
   "name": "python3"
  },
  "language_info": {
   "codemirror_mode": {
    "name": "ipython",
    "version": 3
   },
   "file_extension": ".py",
   "mimetype": "text/x-python",
   "name": "python",
   "nbconvert_exporter": "python",
   "pygments_lexer": "ipython3",
   "version": "3.10.14"
  }
 },
 "nbformat": 4,
 "nbformat_minor": 2
}
