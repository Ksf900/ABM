{
 "cells": [
  {
   "cell_type": "code",
   "execution_count": 2,
   "metadata": {},
   "outputs": [],
   "source": [
    "import numpy as np\n",
    "import matplotlib.pyplot as plt\n",
    "from mpl_toolkits.mplot3d import Axes3D\n",
    "import os\n",
    "import pandas as pd\n",
    "\n",
    "plt.style.use('default')"
   ]
  },
  {
   "cell_type": "code",
   "execution_count": null,
   "metadata": {},
   "outputs": [],
   "source": [
    "prices = np.arange(1, 11, 1)\n",
    "capacities = np.arange(200, 2200, 200)"
   ]
  },
  {
   "cell_type": "code",
   "execution_count": null,
   "metadata": {},
   "outputs": [],
   "source": [
    "df_percentages = pd.read_csv('Data3/percentages_ferry_users.csv')\n",
    "df_mean = pd.read_csv('Data3/mean.csv')\n",
    "df_CI = pd.read_csv('Data3/CI.csv')\n",
    "df_mean_mean = pd.read_csv('Data3/mean_mean.csv')\n",
    "df_CI_mean = pd.read_csv('Data3/CI_mean.csv')\n",
    "\n",
    "# Get the original shapes\n",
    "num_days = 100\n",
    "num_prices = len(prices)\n",
    "num_capacities = len(capacities)\n",
    "runs = 15\n",
    "\n",
    "# Reshape the data to their original shapes\n",
    "percentages_ferry_users = df_percentages.values.reshape(num_capacities, num_prices, num_days, runs)\n",
    "mean = df_mean.values.reshape(num_capacities, num_prices, num_days)\n",
    "CI = df_CI.values.reshape(num_capacities, num_prices, num_days, 2)\n",
    "mean_mean = df_mean_mean.values.reshape(num_capacities, num_prices)\n",
    "CI_mean = df_CI_mean.values.reshape(num_capacities, num_prices, 2)"
   ]
  }
 ],
 "metadata": {
  "kernelspec": {
   "display_name": "ABM",
   "language": "python",
   "name": "python3"
  },
  "language_info": {
   "codemirror_mode": {
    "name": "ipython",
    "version": 3
   },
   "file_extension": ".py",
   "mimetype": "text/x-python",
   "name": "python",
   "nbconvert_exporter": "python",
   "pygments_lexer": "ipython3",
   "version": "3.12.3"
  }
 },
 "nbformat": 4,
 "nbformat_minor": 2
}
