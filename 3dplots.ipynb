{
 "cells": [
  {
   "cell_type": "code",
   "execution_count": 22,
   "metadata": {},
   "outputs": [
    {
     "name": "stdout",
     "output_type": "stream",
     "text": [
      "Using matplotlib backend: QtAgg\n"
     ]
    }
   ],
   "source": [
    "import numpy as np\n",
    "import matplotlib.pyplot as plt\n",
    "from mpl_toolkits.mplot3d import Axes3D\n",
    "import os\n",
    "import pandas as pd\n",
    "%matplotlib\n",
    "\n",
    "plt.style.use('default')"
   ]
  },
  {
   "cell_type": "code",
   "execution_count": 23,
   "metadata": {},
   "outputs": [],
   "source": [
    "prices = np.arange(1, 11, 1)\n",
    "capacities = np.arange(200, 2200, 200)"
   ]
  },
  {
   "cell_type": "code",
   "execution_count": 24,
   "metadata": {},
   "outputs": [],
   "source": [
    "nr_islands = 5\n",
    "\n",
    "df_percentages = pd.read_csv(f'Data{nr_islands}/percentages_ferry_users.csv')\n",
    "df_mean = pd.read_csv(f'Data{nr_islands}/mean.csv')\n",
    "df_CI = pd.read_csv(f'Data{nr_islands}/CI.csv')\n",
    "df_mean_mean = pd.read_csv(f'Data{nr_islands}/mean_mean.csv')\n",
    "df_CI_mean = pd.read_csv(f'Data{nr_islands}/CI_mean.csv')\n",
    "\n",
    "# Get the original shapes\n",
    "num_days = 100\n",
    "num_prices = len(prices)\n",
    "num_capacities = len(capacities)\n",
    "runs = 15\n",
    "\n",
    "# Reshape the data to their original shapes\n",
    "percentages_ferry_users = df_percentages.values.reshape(num_capacities, num_prices, num_days, runs)\n",
    "mean = df_mean.values.reshape(num_capacities, num_prices, num_days)\n",
    "CI = df_CI.values.reshape(num_capacities, num_prices, num_days, 2)\n",
    "mean_mean = df_mean_mean.values.reshape(num_capacities, num_prices)\n",
    "CI_mean = df_CI_mean.values.reshape(num_capacities, num_prices, 2)"
   ]
  },
  {
   "cell_type": "code",
   "execution_count": 25,
   "metadata": {},
   "outputs": [],
   "source": [
    "from mpl_toolkits.mplot3d import Axes3D\n",
    "\n",
    "fig = plt.figure(dpi=300)\n",
    "ax = fig.add_subplot(111, projection='3d')\n",
    "\n",
    "# Create meshgrid for capacities and prices\n",
    "X, Y = np.meshgrid(capacities, prices)\n",
    "Z = mean_mean.T  # Transpose to match the meshgrid dimensions\n",
    "\n",
    "# Plot the surface\n",
    "surf = ax.plot_surface(X, Y, Z*100, cmap='viridis', edgecolor='none')\n",
    "\n",
    "# Add labels and title\n",
    "ax.set_xlabel('Capacity', fontsize=10, fontweight='bold')\n",
    "ax.set_ylabel('Price [a.u.]', fontsize=10, fontweight='bold')\n",
    "ax.set_zlabel('Mean Ferry Users (%)', fontsize=10, fontweight='bold')\n",
    "ax.set_title(f'{nr_islands} Islands  ', fontsize=16, fontweight='bold')\n",
    "\n",
    "\n",
    "# Add a color bar\n",
    "fig.colorbar(surf, ax=ax, shrink=0.5, aspect=5)\n",
    "\n",
    "# plt.savefig('Figures3/3D Surface Plot of Mean Percentage of Ferry Users')\n",
    "plt.show()"
   ]
  }
 ],
 "metadata": {
  "kernelspec": {
   "display_name": "ABM",
   "language": "python",
   "name": "python3"
  },
  "language_info": {
   "codemirror_mode": {
    "name": "ipython",
    "version": 3
   },
   "file_extension": ".py",
   "mimetype": "text/x-python",
   "name": "python",
   "nbconvert_exporter": "python",
   "pygments_lexer": "ipython3",
   "version": "3.12.3"
  }
 },
 "nbformat": 4,
 "nbformat_minor": 2
}
