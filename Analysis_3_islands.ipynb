{
 "cells": [
  {
   "cell_type": "markdown",
   "metadata": {},
   "source": [
    "# <font color='LightBlue'> **Transportation Model**</font>\n",
    "\n",
    "<font color='Silver'>\n",
    "Kevin Schaaf ()\n",
    "Haron Malash ()\n",
    "Sanjhana Bhusal ()\n",
    "Martijn Messanella ()\n",
    "Lisa Pahladsingh ()\n",
    "</font>"
   ]
  },
  {
   "cell_type": "code",
   "execution_count": 19,
   "metadata": {},
   "outputs": [],
   "source": [
    "from Simulate import *\n",
    "import matplotlib.pyplot as plt\n",
    "from mpl_toolkits.mplot3d import Axes3D\n",
    "import os\n",
    "import pandas as pd\n",
    "\n",
    "plt.style.use('default')"
   ]
  },
  {
   "cell_type": "markdown",
   "metadata": {},
   "source": [
    "## <font color='LightGreen'> ***Capacity***</font>\n",
    "Kevin"
   ]
  },
  {
   "cell_type": "code",
   "execution_count": 20,
   "metadata": {},
   "outputs": [],
   "source": [
    "def vary_capacity_experiment(num_commuters, islands, capacity, metrics_to_plot, ferry_base_price):\n",
    "    '''\n",
    "    This function executes the capacity experiment. \n",
    "    args:\n",
    "        num_commuters:   The number of agents in the model\n",
    "        islands:         The names of the islands included in the model\n",
    "        capacities:      A list or array of integers, with the lowest integer the number of agents\n",
    "        metrics_to_plot: A list of all the metrics you want to plot; \n",
    "                         This should be a list of strings with the names of the metrics.\n",
    "                         Also, this variable might need adjustment for different number of islands\n",
    "    Output:\n",
    "        Plot of the percentage of ferry users for this settings of the experiment. \n",
    "    '''\n",
    "    simulation = Simulation(\n",
    "        num_commuters=num_commuters,\n",
    "        num_days=100,\n",
    "        islands=islands,\n",
    "        capacity=capacity,\n",
    "        ferry_base_price=ferry_base_price,\n",
    "        ferry_base_time=40,\n",
    "        speedboat_base_price=6,\n",
    "        speedboat_base_time=10,\n",
    "    )\n",
    "\n",
    "    simulation.run()\n",
    "\n",
    "    # Plot specific results\n",
    "    metrics_to_plot = [\n",
    "    'Ferry_Island_A_Island_B_users', 'Ferry_Island_A_Island_C_users', 'Ferry_Island_B_Island_C_users',\n",
    "    'Ferry_Island_B_Island_A_users', 'Ferry_Island_C_Island_A_users', 'Ferry_Island_C_Island_B_users',\n",
    "    'Speedboat_Island_A_Island_B_users', 'Speedboat_Island_A_Island_C_users', 'Speedboat_Island_B_Island_C_users',\n",
    "    'Speedboat_Island_B_Island_A_users', 'Speedboat_Island_A_Island_C_users', 'Speedboat_Island_C_Island_B_users'\n",
    "    ]\n",
    "\n",
    "    return simulation.return_percentage_ferry_users(metrics_to_plot)"
   ]
  },
  {
   "cell_type": "code",
   "execution_count": null,
   "metadata": {},
   "outputs": [],
   "source": []
  },
  {
   "cell_type": "code",
   "execution_count": 21,
   "metadata": {},
   "outputs": [],
   "source": [
    "islands = [\"Island_A\", \"Island_B\", \"Island_C\"]\n",
    "num_commuters = 1000\n",
    "prices = np.arange(1, 11, 1)\n",
    "capacities = np.arange(200, 2200, 200)\n",
    "runs = 15\n",
    "ferry_base_price = 1\n",
    "\n",
    "num_days = 100\n",
    "metrics_to_plot = [\n",
    "    'Ferry_Island_A_Island_B_users', 'Ferry_Island_A_Island_C_users', 'Ferry_Island_B_Island_C_users',\n",
    "    'Ferry_Island_B_Island_A_users', 'Ferry_Island_C_Island_A_users', 'Ferry_Island_C_Island_B_users',\n",
    "    'Speedboat_Island_A_Island_B_users', 'Speedboat_Island_A_Island_C_users', 'Speedboat_Island_B_Island_C_users',\n",
    "    'Speedboat_Island_B_Island_A_users', 'Speedboat_Island_A_Island_C_users', 'Speedboat_Island_C_Island_B_users'\n",
    "    ]\n",
    "\n",
    "percentages_ferry_users = np.zeros((len(capacities), len(prices), num_days, runs))\n",
    "mean = np.zeros((len(capacities), len(prices), num_days))\n",
    "CI = np.zeros((len(capacities), len(prices), num_days, 2))\n",
    "\n",
    "mean_mean = np.zeros((len(capacities), len(prices)))\n",
    "CI_mean = np.zeros((len(capacities), len(prices), 2))\n",
    "capacity = 1000\n",
    "\n",
    "for price_ix, ferry_base_price in enumerate(prices):\n",
    "    for capacity_ix, capacity in enumerate(capacities):\n",
    "        for i in range(runs):\n",
    "            percentages_ferry_users[capacity_ix, price_ix, :, i] = vary_capacity_experiment(num_commuters, islands, capacity, metrics_to_plot, ferry_base_price)\n",
    "\n",
    "        mean[capacity_ix, price_ix] = np.mean(percentages_ferry_users[capacity_ix, price_ix], axis=1)\n",
    "        CI[capacity_ix, price_ix] = np.percentile(percentages_ferry_users[capacity_ix, price_ix], [2.5, 97.5], axis=1).T\n",
    "\n",
    "        mean_mean[capacity_ix, price_ix] = np.mean(mean[capacity_ix, price_ix, -10:])\n",
    "        CI_mean[capacity_ix, price_ix] = np.percentile(mean[capacity_ix, price_ix, -10:], [2.5, 97.5])\n"
   ]
  },
  {
   "cell_type": "code",
   "execution_count": 22,
   "metadata": {},
   "outputs": [],
   "source": [
    "df_percentages = pd.DataFrame(percentages_ferry_users.reshape(len(capacities)*len(prices)*num_days*runs))\n",
    "df_mean = pd.DataFrame(mean.reshape(len(capacities)*len(prices)*num_days))\n",
    "df_CI = pd.DataFrame(CI.reshape(len(capacities)*len(prices)*num_days*2))\n",
    "df_mean_mean = pd.DataFrame(mean_mean.reshape(len(capacities)*len(prices)))\n",
    "df_CI_mean = pd.DataFrame(CI_mean.reshape(len(capacities)*len(prices)*2))\n",
    "\n",
    "# Save DataFrames to CSV\n",
    "df_percentages.to_csv('Data3/percentages_ferry_users.csv', index=False)\n",
    "df_mean.to_csv('Data3/mean.csv', index=False)\n",
    "df_CI.to_csv('Data3/CI.csv', index=False)\n",
    "df_mean_mean.to_csv('Data3/mean_mean.csv', index=False)\n",
    "df_CI_mean.to_csv('Data3/CI_mean.csv', index=False)"
   ]
  },
  {
   "cell_type": "code",
   "execution_count": 37,
   "metadata": {},
   "outputs": [],
   "source": [
    "def save_Back_up_Data():\n",
    "    df_percentages.to_csv('Back_up_Data3/percentages_ferry_users.csv', index=False)\n",
    "    df_mean.to_csv('Back_up_Data3/mean.csv', index=False)\n",
    "    df_CI.to_csv('Back_up_Data3/CI.csv', index=False)\n",
    "    df_mean_mean.to_csv('Back_up_Data3/mean_mean.csv', index=False)\n",
    "    df_CI_mean.to_csv('Back_up_Data3/CI_mean.csv', index=False)\n",
    "\n",
    "# # If the run was a quality run, uncomment the next line \n",
    "save_Back_up_Data()"
   ]
  },
  {
   "cell_type": "code",
   "execution_count": 24,
   "metadata": {},
   "outputs": [],
   "source": [
    "df_percentages = pd.read_csv('Data3/percentages_ferry_users.csv')\n",
    "df_mean = pd.read_csv('Data3/mean.csv')\n",
    "df_CI = pd.read_csv('Data3/CI.csv')\n",
    "df_mean_mean = pd.read_csv('Data3/mean_mean.csv')\n",
    "df_CI_mean = pd.read_csv('Data3/CI_mean.csv')\n",
    "\n",
    "# Get the original shapes\n",
    "num_days = 100\n",
    "num_prices = len(prices)\n",
    "num_capacities = len(capacities)\n",
    "runs = 15\n",
    "\n",
    "# Reshape the data to their original shapes\n",
    "percentages_ferry_users = df_percentages.values.reshape(num_capacities, num_prices, num_days, runs)\n",
    "mean = df_mean.values.reshape(num_capacities, num_prices, num_days)\n",
    "CI = df_CI.values.reshape(num_capacities, num_prices, num_days, 2)\n",
    "mean_mean = df_mean_mean.values.reshape(num_capacities, num_prices)\n",
    "CI_mean = df_CI_mean.values.reshape(num_capacities, num_prices, 2)"
   ]
  },
  {
   "cell_type": "code",
   "execution_count": 25,
   "metadata": {},
   "outputs": [],
   "source": [
    "for price_ix, ferry_base_price in enumerate(prices):\n",
    "    plt.figure(dpi=300)\n",
    "    for capacity_ix, capacity in enumerate(capacities):\n",
    "        plt.plot(mean[capacity_ix, price_ix]*100, label=capacity)\n",
    "        plt.fill_between(np.arange(0, num_days, 1), CI[capacity_ix, price_ix, :, 0]*100, CI[capacity_ix, price_ix, :, 1]*100, alpha=0.5)\n",
    "    plt.title(f'Ferry Users for Price = {ferry_base_price}', fontsize=20, fontweight='bold')\n",
    "    plt.legend()\n",
    "    plt.xlabel('Time [a.u.]', fontsize=14, fontweight='bold')\n",
    "    plt.ylabel('Ferry Users (%)', fontsize=14, fontweight='bold')\n",
    "    plt.savefig(f'Figures3/Percentage of ferry users in time for price = {ferry_base_price}')\n",
    "    plt.show()"
   ]
  },
  {
   "cell_type": "code",
   "execution_count": 26,
   "metadata": {},
   "outputs": [
    {
     "name": "stderr",
     "output_type": "stream",
     "text": [
      "C:\\Users\\kevin\\AppData\\Local\\Temp\\ipykernel_33968\\3420966354.py:2: RuntimeWarning: More than 20 figures have been opened. Figures created through the pyplot interface (`matplotlib.pyplot.figure`) are retained until explicitly closed and may consume too much memory. (To control this warning, see the rcParam `figure.max_open_warning`). Consider using `matplotlib.pyplot.close()`.\n",
      "  plt.figure(dpi=300)\n"
     ]
    }
   ],
   "source": [
    "for capacity_ix, capacity in enumerate(capacities):\n",
    "    plt.figure(dpi=300)\n",
    "    for price_ix, ferry_base_price in enumerate(prices):\n",
    "        plt.plot(mean[capacity_ix, price_ix]*100, label=ferry_base_price)\n",
    "        plt.fill_between(np.arange(0, num_days, 1), CI[capacity_ix, price_ix, :, 0]*100, CI[capacity_ix, price_ix, :, 1]*100, alpha=0.5)\n",
    "    plt.title(f'Ferry Users for Capacity = {capacity}', fontsize=20, fontweight='bold')\n",
    "    plt.legend()\n",
    "    plt.xlabel('Time [a.u.]', fontsize=14, fontweight='bold')\n",
    "    plt.ylabel('Ferry Users (%)', fontsize=14, fontweight='bold')\n",
    "    plt.savefig(f'Figures3/Percentage of ferry users in time for capacity = {capacity}')\n",
    "    plt.show()"
   ]
  },
  {
   "cell_type": "code",
   "execution_count": 27,
   "metadata": {},
   "outputs": [],
   "source": [
    "plt.figure(dpi=300)\n",
    "capacity_ix = 4\n",
    "plt.plot(prices, mean_mean[capacity_ix, :]*100)\n",
    "plt.fill_between(prices, CI_mean[capacity_ix, :, 0]*100, CI_mean[capacity_ix, :, 1]*100, alpha=0.5)\n",
    "plt.title('Ferry users against price for capacity = 1000', fontsize=20, fontweight='bold')\n",
    "plt.xlabel('Prices [a.u.]', fontsize=14, fontweight='bold')\n",
    "plt.ylabel('Ferry Users (%)', fontsize=14, fontweight='bold')\n",
    "plt.savefig('Figures3/Ferry users agains price for capacity = 1000')\n",
    "plt.show()"
   ]
  },
  {
   "cell_type": "code",
   "execution_count": 28,
   "metadata": {},
   "outputs": [],
   "source": [
    "plt.figure(dpi=300)\n",
    "price_ix = 4\n",
    "plt.plot(capacities, mean_mean[:, price_ix]*100)\n",
    "plt.fill_between(capacities, CI_mean[:, price_ix, 0]*100, CI_mean[:, price_ix, 1]*100, alpha=0.5)\n",
    "plt.title('Ferry users agains capacity for price = 5', fontsize=20, fontweight='bold')\n",
    "plt.xlabel('Capacities', fontsize=14, fontweight='bold')\n",
    "plt.ylabel('Ferry users (%)', fontsize=14, fontweight='bold')\n",
    "plt.savefig('Figures3/Ferry users agains capacity for price = 5')\n",
    "plt.show() "
   ]
  },
  {
   "cell_type": "code",
   "execution_count": 29,
   "metadata": {},
   "outputs": [
    {
     "name": "stdout",
     "output_type": "stream",
     "text": [
      "Using matplotlib backend: QtAgg\n"
     ]
    }
   ],
   "source": [
    "%matplotlib"
   ]
  },
  {
   "cell_type": "code",
   "execution_count": 30,
   "metadata": {},
   "outputs": [],
   "source": [
    "from mpl_toolkits.mplot3d import Axes3D\n",
    "\n",
    "fig = plt.figure(dpi=300)\n",
    "ax = fig.add_subplot(111, projection='3d')\n",
    "\n",
    "# Create meshgrid for capacities and prices\n",
    "X, Y = np.meshgrid(capacities, prices)\n",
    "Z = mean_mean.T  # Transpose to match the meshgrid dimensions\n",
    "\n",
    "# Plot the surface\n",
    "surf = ax.plot_surface(X, Y, Z*100, cmap='viridis', edgecolor='none')\n",
    "\n",
    "# Add labels and title\n",
    "ax.set_xlabel('Capacity', fontsize=14, fontweight='bold')\n",
    "ax.set_ylabel('Price [a.u.]', fontsize=14, fontweight='bold')\n",
    "ax.set_zlabel('Mean Ferry Users (%)', fontsize=14, fontweight='bold')\n",
    "ax.set_title('Influence of Pricing and Capacity Policies on Ferry Usage ', fontsize=20, fontweight='bold')\n",
    "\n",
    "\n",
    "# Add a color bar\n",
    "fig.colorbar(surf, ax=ax, shrink=0.5, aspect=5)\n",
    "\n",
    "plt.savefig('Figures3/3D Surface Plot of Mean Percentage of Ferry Users')\n",
    "plt.show()"
   ]
  },
  {
   "cell_type": "code",
   "execution_count": 52,
   "metadata": {},
   "outputs": [],
   "source": [
    "import numpy as np\n",
    "import matplotlib.pyplot as plt\n",
    "from mpl_toolkits.mplot3d import Axes3D\n",
    "\n",
    "# Assuming mean_mean is already defined and contains the dependent variable values\n",
    "\n",
    "# Calculate the partial derivatives\n",
    "dZ_dX = np.gradient(mean_mean, axis=0)  # Partial derivative with respect to capacity\n",
    "dZ_dY = np.gradient(mean_mean, axis=1)  # Partial derivative with respect to price\n",
    "\n",
    "# Determine the effect at each point\n",
    "effect = np.zeros_like(mean_mean)\n",
    "effect[dZ_dX > dZ_dY] = 1  # Price has a greater effect\n",
    "effect[dZ_dX <= dZ_dY] = 2  # Capacity has a greater effect\n",
    "\n",
    "# Create meshgrid for capacities and prices\n",
    "X, Y = np.meshgrid(capacities, prices)\n",
    "Z = mean_mean.T  # Transpose to match the meshgrid dimensions\n",
    "\n",
    "# Plot the surface\n",
    "fig = plt.figure(dpi=300)\n",
    "ax = fig.add_subplot(111, projection='3d')\n",
    "surf = ax.plot_surface(X, Y, Z*100, cmap='viridis', edgecolor='none')\n",
    "\n",
    "# Add labels and title\n",
    "ax.set_xlabel('Capacity', fontsize=14, fontweight='bold')\n",
    "ax.set_ylabel('Price [a.u.]', fontsize=14, fontweight='bold')\n",
    "ax.set_zlabel('Mean Ferry Users (%)', fontsize=14, fontweight='bold')\n",
    "ax.set_title('Influence of Pricing and Capacity Policies on Ferry Usage', fontsize=20, fontweight='bold')\n",
    "\n",
    "# Add a color bar\n",
    "fig.colorbar(surf, ax=ax, shrink=0.5, aspect=5)\n",
    "\n",
    "plt.savefig('Figures3/3D_Surface_Plot_of_Mean_Percentage_of_Ferry_Users.png')\n",
    "plt.show()\n",
    "\n",
    "# Plot the effect\n",
    "fig, ax = plt.subplots(dpi=300)\n",
    "c = ax.pcolormesh(X, Y, effect.T, cmap='coolwarm', shading='auto')\n",
    "ax.set_xlabel('Capacity', fontsize=14, fontweight='bold')\n",
    "ax.set_ylabel('Price [a.u.]', fontsize=14, fontweight='bold')\n",
    "ax.set_title('Effect of Pricing vs Capacity on Ferry Usage', fontsize=20, fontweight='bold')\n",
    "fig.colorbar(c, ax=ax, label='Effect (1: Price, 2: Capacity)')\n",
    "\n",
    "plt.savefig('Figures3/Effect_of_Pricing_vs_Capacity_on_Ferry_Usage.png')\n",
    "plt.show()"
   ]
  },
  {
   "cell_type": "markdown",
   "metadata": {},
   "source": [
    "## <font color='LightGreen'> ***Number of Islands***</font>\n",
    "Three Islands"
   ]
  },
  {
   "cell_type": "markdown",
   "metadata": {},
   "source": [
    "Price\n"
   ]
  },
  {
   "cell_type": "code",
   "execution_count": 32,
   "metadata": {},
   "outputs": [],
   "source": [
    "# islands = [\"Island_A\", \"Island_B\", \"Island_C\"]\n",
    "# num_commuters = 1000\n",
    "\n",
    "# fares = np.array([1, 2, 3, 4, 5, 6, 7, 8, 9, 10])\n",
    "\n",
    "# # Plot specific results\n",
    "# metrics_to_plot = [\n",
    "#     'Ferry_Island_A_Island_B_users', 'Ferry_Island_A_Island_C_users', 'Ferry_Island_B_Island_C_users',\n",
    "#     'Ferry_Island_B_Island_A_users', 'Ferry_Island_C_Island_A_users', 'Ferry_Island_C_Island_B_users',\n",
    "#     'Speedboat_Island_A_Island_B_users', 'Speedboat_Island_A_Island_C_users', 'Speedboat_Island_B_Island_C_users',\n",
    "#     'Speedboat_Island_B_Island_A_users', 'Speedboat_Island_A_Island_C_users', 'Speedboat_Island_C_Island_B_users'\n",
    "# ]\n",
    "\n",
    "# ferry_price_policy(num_commuters, islands, fares, metrics_to_plot)\n"
   ]
  },
  {
   "cell_type": "markdown",
   "metadata": {},
   "source": [
    "Capacity"
   ]
  },
  {
   "cell_type": "code",
   "execution_count": 33,
   "metadata": {},
   "outputs": [],
   "source": [
    "# def vary_capacity_experiment(num_commuters, islands, capacity, metrics_to_plot, ferry_base_price):\n",
    "#     '''\n",
    "#     This function executes the capacity experiment. \n",
    "#     args:\n",
    "#         num_commuters:   The number of agents in the model\n",
    "#         islands:         The names of the islands included in the model\n",
    "#         capacities:      A list or array of integers, with the lowest integer the number of agents\n",
    "#         metrics_to_plot: A list of all the metrics you want to plot; \n",
    "#                          This should be a list of strings with the names of the metrics.\n",
    "#                          Also, this variable might need adjustment for different number of islands\n",
    "#     Output:\n",
    "#         Plot of the percentage of ferry users for this settings of the experiment. \n",
    "#     '''\n",
    "#     simulation = Simulation(\n",
    "#         num_commuters=num_commuters,\n",
    "#         num_days=60,\n",
    "#         islands=islands,\n",
    "#         capacity=capacity,\n",
    "#         ferry_base_price=ferry_base_price,\n",
    "#         ferry_base_time=40,\n",
    "#         speedboat_base_price=6,\n",
    "#         speedboat_base_time=10,\n",
    "#     )\n",
    "\n",
    "#     simulation.run()\n",
    "\n",
    "#     # Plot specific results\n",
    "#     metrics_to_plot = [\n",
    "#         'Ferry_Island_A_Island_B_users', 'Ferry_Island_A_Island_C_users', 'Ferry_Island_B_Island_C_users',\n",
    "#         'Ferry_Island_B_Island_A_users', 'Ferry_Island_C_Island_A_users', 'Ferry_Island_C_Island_B_users',\n",
    "#         'Speedboat_Island_A_Island_B_users', 'Speedboat_Island_A_Island_C_users', 'Speedboat_Island_B_Island_C_users',\n",
    "#         'Speedboat_Island_B_Island_A_users', 'Speedboat_Island_A_Island_C_users', 'Speedboat_Island_C_Island_B_users'\n",
    "#     ]\n",
    "\n",
    "#     return simulation.return_percentage_ferry_users(metrics_to_plot)"
   ]
  },
  {
   "cell_type": "code",
   "execution_count": 34,
   "metadata": {},
   "outputs": [],
   "source": [
    "# islands = [\"Island_A\", \"Island_B\", \"Island_C\"]\n",
    "# num_commuters = 1000\n",
    "# prices = np.arange(1, 11, 1)\n",
    "# capacities = np.arange(200, 2200, 200)\n",
    "# runs = 2\n",
    "# ferry_base_price = 1\n",
    "\n",
    "# num_days = 60\n",
    "# metrics_to_plot = [\n",
    "#     'Ferry_Island_A_Island_B_users', 'Ferry_Island_A_Island_C_users', 'Ferry_Island_B_Island_C_users',\n",
    "#     'Ferry_Island_B_Island_A_users', 'Ferry_Island_C_Island_A_users', 'Ferry_Island_C_Island_B_users',\n",
    "#     'Speedboat_Island_A_Island_B_users', 'Speedboat_Island_A_Island_C_users', 'Speedboat_Island_B_Island_C_users',\n",
    "#     'Speedboat_Island_B_Island_A_users', 'Speedboat_Island_A_Island_C_users', 'Speedboat_Island_C_Island_B_users'\n",
    "# ]\n",
    "\n",
    "# percentages_ferry_users = np.zeros((len(capacities), len(prices), num_days, runs))\n",
    "# mean = np.zeros((len(capacities), len(prices), num_days))\n",
    "# CI = np.zeros((len(capacities), len(prices), num_days, 2))\n",
    "\n",
    "# mean_mean = np.zeros((len(capacities), len(prices)))\n",
    "# CI_mean = np.zeros((len(capacities), len(prices), 2))\n",
    "# capacity = 1000\n",
    "\n",
    "# for price_ix, ferry_base_price in enumerate(prices):\n",
    "#     for capacity_ix, capacity in enumerate(capacities):\n",
    "#         for i in range(runs):\n",
    "#             percentages_ferry_users[capacity_ix, price_ix, :, i] = vary_capacity_experiment(num_commuters, islands, capacity, metrics_to_plot, ferry_base_price)\n",
    "\n",
    "#         mean[capacity_ix, price_ix] = np.mean(percentages_ferry_users[capacity_ix, price_ix], axis=1)\n",
    "#         CI[capacity_ix, price_ix] = np.percentile(percentages_ferry_users[capacity_ix, price_ix], [2.5, 97.5], axis=1).T\n",
    "\n",
    "#         mean_mean[capacity_ix, price_ix] = np.mean(mean[capacity_ix, price_ix, -10:])\n",
    "#         CI_mean[capacity_ix, price_ix] = np.percentile(mean[capacity_ix, price_ix, -10:], [2.5, 97.5])\n"
   ]
  },
  {
   "cell_type": "code",
   "execution_count": 35,
   "metadata": {},
   "outputs": [],
   "source": [
    "# for price_ix, ferry_base_price in enumerate(prices):\n",
    "#     plt.figure()\n",
    "#     for capacity_ix, capacity in enumerate(capacities):\n",
    "#         plt.plot(mean[capacity_ix, price_ix], label=capacity)\n",
    "#         plt.fill_between(np.arange(0, num_days, 1), CI[capacity_ix, price_ix, :, 0], CI[capacity_ix, price_ix, :, 1], alpha=0.5)\n",
    "#         plt.title(f'Percentage of ferry users in time for price = {ferry_base_price}')\n",
    "#     plt.legend()\n",
    "#     plt.show()"
   ]
  },
  {
   "cell_type": "code",
   "execution_count": 36,
   "metadata": {},
   "outputs": [],
   "source": [
    "# for capacity_ix, capacity in enumerate(capacities):\n",
    "#     plt.figure()\n",
    "#     for price_ix, ferry_base_price in enumerate(prices):\n",
    "#         plt.plot(mean[capacity_ix, price_ix], label=ferry_base_price)\n",
    "#         plt.fill_between(np.arange(0, num_days, 1), CI[capacity_ix, price_ix, :, 0], CI[capacity_ix, price_ix, :, 1], alpha=0.5)\n",
    "#         plt.title(f'Percentage of ferry users in time for capacity = {capacity}')\n",
    "#     plt.legend()\n",
    "#     plt.show()"
   ]
  }
 ],
 "metadata": {
  "kernelspec": {
   "display_name": "ABM-Notebooks-0-1-zOKZDhju",
   "language": "python",
   "name": "python3"
  },
  "language_info": {
   "codemirror_mode": {
    "name": "ipython",
    "version": 3
   },
   "file_extension": ".py",
   "mimetype": "text/x-python",
   "name": "python",
   "nbconvert_exporter": "python",
   "pygments_lexer": "ipython3",
   "version": "3.12.3"
  }
 },
 "nbformat": 4,
 "nbformat_minor": 2
}
