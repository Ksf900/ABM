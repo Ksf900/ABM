{
 "cells": [
  {
   "cell_type": "code",
   "execution_count": 11,
   "metadata": {},
   "outputs": [],
   "source": [
    "from mesa.batchrunner import BatchRunner\n",
    "from mesa.batchrunner import FixedBatchRunner\n",
    "import pandas as pd\n",
    "import numpy as np\n",
    "import matplotlib.pyplot as plt\n",
    "from SALib.sample import saltelli\n",
    "from SALib.analyze import sobol\n",
    "from Simulate import Simulation\n",
    "\n",
    "\n",
    "plt.style.use('default')"
   ]
  },
  {
   "cell_type": "markdown",
   "metadata": {},
   "source": [
    "# Sobol SA\n",
    "\n",
    "Sobol Sensitivity Analysis ([Sobol 2001](http://www.sciencedirect.com/science/article/pii/S0378475400002706), [Saltelli 2002](http://www.sciencedirect.com/science/article/pii/S0010465502002801), [Saltelli et al. 2010](http://www.sciencedirect.com/science/article/pii/S0010465509003087)) is a global SA method that determines the contribution of each input parameter or a combination of parameters and their interaction to the overall output variance. OFAT, while it is easier to implement (and certainly is less thought-intensive), has a couple of downsides.\n",
    "\n",
    "1. OFAT requires a large amount of runs to get accurate results\n",
    "2. OFAT cannot estimate interactions of combinations of inputs\n",
    "3. OFAT can miss optimal settings of factors\n",
    "\n",
    "Sobol can find higher order interactions, but still requires a large amount of runs.\n",
    "\n",
    "### Getting the data\n",
    "\n",
    "Before we can start analysing the model, we will have to sample our data. There are multiple methods for sampling included in SALib, but since we're using Sobol, we will use Saltelli sampling for this. \n",
    "\n",
    "The following code shows how you could collect data for the \"wolf-sheep\" model."
   ]
  },
  {
   "cell_type": "code",
   "execution_count": 19,
   "metadata": {},
   "outputs": [
    {
     "name": "stderr",
     "output_type": "stream",
     "text": [
      "C:\\Users\\kevin\\AppData\\Local\\Temp\\ipykernel_10328\\2146681405.py:20: DeprecationWarning: `salib.sample.saltelli` will be removed in SALib 1.5. Please use `salib.sample.sobol`\n",
      "  param_values = saltelli.sample(problem, distinct_samples, calc_second_order=False)\n",
      "0it [00:00, ?it/s]\n"
     ]
    },
    {
     "ename": "AttributeError",
     "evalue": "'Simulation' object has no attribute 'running'",
     "output_type": "error",
     "traceback": [
      "\u001b[1;31m---------------------------------------------------------------------------\u001b[0m",
      "\u001b[1;31mAttributeError\u001b[0m                            Traceback (most recent call last)",
      "Cell \u001b[1;32mIn[19], line 45\u001b[0m\n\u001b[0;32m     32\u001b[0m \u001b[38;5;66;03m# Keep in mind that wolf_gain_from_food should be integers. You will have to change\u001b[39;00m\n\u001b[0;32m     33\u001b[0m \u001b[38;5;66;03m# your code to acommodate for this or sample in such a way that you only get integers.\u001b[39;00m\n\u001b[0;32m     34\u001b[0m \u001b[38;5;66;03m# if var == 'wolf_gain_from_food':\u001b[39;00m\n\u001b[0;32m     35\u001b[0m \u001b[38;5;66;03m#     samples = np.linspace(*problem['bounds'][i], num=distinct_samples, dtype=int)\u001b[39;00m\n\u001b[0;32m     37\u001b[0m batch \u001b[38;5;241m=\u001b[39m FixedBatchRunner(Simulation,\n\u001b[0;32m     38\u001b[0m                     max_steps\u001b[38;5;241m=\u001b[39mmax_steps,\n\u001b[0;32m     39\u001b[0m                     iterations\u001b[38;5;241m=\u001b[39mreplicates,\n\u001b[1;32m   (...)\u001b[0m\n\u001b[0;32m     42\u001b[0m                     model_reporters\u001b[38;5;241m=\u001b[39mmodel_reporters,\n\u001b[0;32m     43\u001b[0m                     display_progress\u001b[38;5;241m=\u001b[39m\u001b[38;5;28;01mTrue\u001b[39;00m)\n\u001b[1;32m---> 45\u001b[0m batch\u001b[38;5;241m.\u001b[39mrun_all()\n\u001b[0;32m     47\u001b[0m data[var] \u001b[38;5;241m=\u001b[39m batch\u001b[38;5;241m.\u001b[39mget_model_vars_dataframe()\n",
      "File \u001b[1;32mc:\\Users\\kevin\\anaconda3\\envs\\ABM\\Lib\\site-packages\\mesa\\batchrunner.py:156\u001b[0m, in \u001b[0;36mFixedBatchRunner.run_all\u001b[1;34m(self)\u001b[0m\n\u001b[0;32m    154\u001b[0m param_values \u001b[38;5;241m=\u001b[39m all_param_values[i]\n\u001b[0;32m    155\u001b[0m \u001b[38;5;28;01mfor\u001b[39;00m _ \u001b[38;5;129;01min\u001b[39;00m \u001b[38;5;28mrange\u001b[39m(\u001b[38;5;28mself\u001b[39m\u001b[38;5;241m.\u001b[39miterations):\n\u001b[1;32m--> 156\u001b[0m     \u001b[38;5;28mself\u001b[39m\u001b[38;5;241m.\u001b[39mrun_iteration(kwargs, param_values, \u001b[38;5;28mnext\u001b[39m(run_count))\n\u001b[0;32m    157\u001b[0m     pbar\u001b[38;5;241m.\u001b[39mupdate()\n",
      "File \u001b[1;32mc:\\Users\\kevin\\anaconda3\\envs\\ABM\\Lib\\site-packages\\mesa\\batchrunner.py:161\u001b[0m, in \u001b[0;36mFixedBatchRunner.run_iteration\u001b[1;34m(self, kwargs, param_values, run_count)\u001b[0m\n\u001b[0;32m    159\u001b[0m \u001b[38;5;28;01mdef\u001b[39;00m \u001b[38;5;21mrun_iteration\u001b[39m(\u001b[38;5;28mself\u001b[39m, kwargs, param_values, run_count):\n\u001b[0;32m    160\u001b[0m     model \u001b[38;5;241m=\u001b[39m \u001b[38;5;28mself\u001b[39m\u001b[38;5;241m.\u001b[39mmodel_cls(\u001b[38;5;241m*\u001b[39m\u001b[38;5;241m*\u001b[39mkwargs)\n\u001b[1;32m--> 161\u001b[0m     results \u001b[38;5;241m=\u001b[39m \u001b[38;5;28mself\u001b[39m\u001b[38;5;241m.\u001b[39mrun_model(model)\n\u001b[0;32m    162\u001b[0m     \u001b[38;5;28;01mif\u001b[39;00m param_values \u001b[38;5;129;01mis\u001b[39;00m \u001b[38;5;129;01mnot\u001b[39;00m \u001b[38;5;28;01mNone\u001b[39;00m:\n\u001b[0;32m    163\u001b[0m         model_key \u001b[38;5;241m=\u001b[39m \u001b[38;5;28mtuple\u001b[39m(param_values) \u001b[38;5;241m+\u001b[39m (run_count,)\n",
      "File \u001b[1;32mc:\\Users\\kevin\\anaconda3\\envs\\ABM\\Lib\\site-packages\\mesa\\batchrunner.py:192\u001b[0m, in \u001b[0;36mFixedBatchRunner.run_model\u001b[1;34m(self, model)\u001b[0m\n\u001b[0;32m    185\u001b[0m \u001b[38;5;28;01mdef\u001b[39;00m \u001b[38;5;21mrun_model\u001b[39m(\u001b[38;5;28mself\u001b[39m, model):\n\u001b[0;32m    186\u001b[0m \u001b[38;5;250m    \u001b[39m\u001b[38;5;124;03m\"\"\" Run a model object to completion, or until reaching max steps.\u001b[39;00m\n\u001b[0;32m    187\u001b[0m \n\u001b[0;32m    188\u001b[0m \u001b[38;5;124;03m    If your model runs in a non-standard way, this is the method to modify\u001b[39;00m\n\u001b[0;32m    189\u001b[0m \u001b[38;5;124;03m    in your subclass.\u001b[39;00m\n\u001b[0;32m    190\u001b[0m \n\u001b[0;32m    191\u001b[0m \u001b[38;5;124;03m    \"\"\"\u001b[39;00m\n\u001b[1;32m--> 192\u001b[0m     \u001b[38;5;28;01mwhile\u001b[39;00m model\u001b[38;5;241m.\u001b[39mrunning \u001b[38;5;129;01mand\u001b[39;00m model\u001b[38;5;241m.\u001b[39mschedule\u001b[38;5;241m.\u001b[39msteps \u001b[38;5;241m<\u001b[39m \u001b[38;5;28mself\u001b[39m\u001b[38;5;241m.\u001b[39mmax_steps:\n\u001b[0;32m    193\u001b[0m         model\u001b[38;5;241m.\u001b[39mstep()\n\u001b[0;32m    195\u001b[0m     \u001b[38;5;28;01mif\u001b[39;00m \u001b[38;5;28mhasattr\u001b[39m(model, \u001b[38;5;124m\"\u001b[39m\u001b[38;5;124mdatacollector\u001b[39m\u001b[38;5;124m\"\u001b[39m):\n",
      "\u001b[1;31mAttributeError\u001b[0m: 'Simulation' object has no attribute 'running'"
     ]
    }
   ],
   "source": [
    "# We define our variables and bounds\n",
    "problem = {\n",
    "    'num_vars': 3,\n",
    "    'names': ['ferry_base_price', 'capacity', 'ferry_base_time'],\n",
    "    'bounds': [[1, 10], [1, 10], [1, 10]]\n",
    "}\n",
    "\n",
    "metrics = [\n",
    "        'Ferry_Island_A_Island_B_users',\n",
    "        'Ferry_Island_B_Island_A_users', \n",
    "        'Speedboat_Island_A_Island_B_users', \n",
    "        'Speedboat_Island_B_Island_A_users'\n",
    "    ]\n",
    "\n",
    "# Set the repetitions, the amount of steps, and the amount of distinct values per variable\n",
    "replicates = 30         # ?\n",
    "max_steps = 100         # = num_days?\n",
    "distinct_samples = 32   # 1024\n",
    "\n",
    "param_values = saltelli.sample(problem, distinct_samples, calc_second_order=False)\n",
    "\n",
    "\n",
    "# Set the outputs\n",
    "model_reporters = {\"Percentage_ferry_users\": lambda m: m.return_percentage_ferry_users(metrics)}\n",
    "\n",
    "data = {}\n",
    "\n",
    "batch = BatchRunner(Simulation, \n",
    "                    max_steps=max_steps,\n",
    "                    variable_parameters={name:[] for name in problem['names']},\n",
    "                    model_reporters=model_reporters)\n",
    "\n",
    "count = 0\n",
    "data = pd.DataFrame(index=range(replicates*len(param_values)), \n",
    "                                columns=['Percentage_Ferry_users'])\n",
    "data['Percentage_Ferry_users'] = None\n",
    "\n",
    "\n",
    "\n",
    "for i, var in enumerate(problem['names']):\n",
    "    # Get the bounds for this variable and get <distinct_samples> samples within this space (uniform)\n",
    "    samples = np.linspace(*problem['bounds'][i], num=distinct_samples, dtype=int)\n",
    "    \n",
    "    # Keep in mind that wolf_gain_from_food should be integers. You will have to change\n",
    "    # your code to acommodate for this or sample in such a way that you only get integers.\n",
    "    # if var == 'wolf_gain_from_food':\n",
    "    #     samples = np.linspace(*problem['bounds'][i], num=distinct_samples, dtype=int)\n",
    "    \n",
    "    batch = FixedBatchRunner(Simulation,\n",
    "                        max_steps=max_steps,\n",
    "                        iterations=replicates,\n",
    "                        parameters_list=[{var: value} for value in samples],\n",
    "                        fixed_parameters= None,\n",
    "                        model_reporters=model_reporters,\n",
    "                        display_progress=True)\n",
    "    \n",
    "    batch.run_all()\n",
    "    \n",
    "    data[var] = batch.get_model_vars_dataframe()\n",
    "    "
   ]
  },
  {
   "cell_type": "code",
   "execution_count": 18,
   "metadata": {},
   "outputs": [
    {
     "name": "stderr",
     "output_type": "stream",
     "text": [
      "C:\\Users\\kevin\\AppData\\Local\\Temp\\ipykernel_10328\\1324753691.py:7: DeprecationWarning: `salib.sample.saltelli` will be removed in SALib 1.5. Please use `salib.sample.sobol`\n",
      "  param_values = saltelli.sample(problem, distinct_samples, calc_second_order=False)\n",
      "c:\\Users\\kevin\\anaconda3\\envs\\ABM\\Lib\\site-packages\\SALib\\sample\\saltelli.py:109: UserWarning: \n",
      "        Convergence properties of the Sobol' sequence is only valid if\n",
      "        `N` (10) is equal to `2^n`.\n",
      "        \n",
      "  warnings.warn(msg)\n"
     ]
    },
    {
     "ename": "AttributeError",
     "evalue": "'Simulation' object has no attribute 'running'",
     "output_type": "error",
     "traceback": [
      "\u001b[1;31m---------------------------------------------------------------------------\u001b[0m",
      "\u001b[1;31mAttributeError\u001b[0m                            Traceback (most recent call last)",
      "Cell \u001b[1;32mIn[18], line 30\u001b[0m\n\u001b[0;32m     27\u001b[0m \u001b[38;5;28;01mfor\u001b[39;00m name, val \u001b[38;5;129;01min\u001b[39;00m \u001b[38;5;28mzip\u001b[39m(problem[\u001b[38;5;124m'\u001b[39m\u001b[38;5;124mnames\u001b[39m\u001b[38;5;124m'\u001b[39m], vals):\n\u001b[0;32m     28\u001b[0m     variable_parameters[name] \u001b[38;5;241m=\u001b[39m val\n\u001b[1;32m---> 30\u001b[0m batch\u001b[38;5;241m.\u001b[39mrun_iteration(variable_parameters, \u001b[38;5;28mtuple\u001b[39m(vals), count)\n\u001b[0;32m     31\u001b[0m iteration_data \u001b[38;5;241m=\u001b[39m batch\u001b[38;5;241m.\u001b[39mget_model_vars_dataframe()\u001b[38;5;241m.\u001b[39miloc[count]\n\u001b[0;32m     32\u001b[0m iteration_data[\u001b[38;5;124m'\u001b[39m\u001b[38;5;124mRun\u001b[39m\u001b[38;5;124m'\u001b[39m] \u001b[38;5;241m=\u001b[39m count \u001b[38;5;66;03m# Don't know what causes this, but iteration number is not correctly filled\u001b[39;00m\n",
      "File \u001b[1;32mc:\\Users\\kevin\\anaconda3\\envs\\ABM\\Lib\\site-packages\\mesa\\batchrunner.py:161\u001b[0m, in \u001b[0;36mFixedBatchRunner.run_iteration\u001b[1;34m(self, kwargs, param_values, run_count)\u001b[0m\n\u001b[0;32m    159\u001b[0m \u001b[38;5;28;01mdef\u001b[39;00m \u001b[38;5;21mrun_iteration\u001b[39m(\u001b[38;5;28mself\u001b[39m, kwargs, param_values, run_count):\n\u001b[0;32m    160\u001b[0m     model \u001b[38;5;241m=\u001b[39m \u001b[38;5;28mself\u001b[39m\u001b[38;5;241m.\u001b[39mmodel_cls(\u001b[38;5;241m*\u001b[39m\u001b[38;5;241m*\u001b[39mkwargs)\n\u001b[1;32m--> 161\u001b[0m     results \u001b[38;5;241m=\u001b[39m \u001b[38;5;28mself\u001b[39m\u001b[38;5;241m.\u001b[39mrun_model(model)\n\u001b[0;32m    162\u001b[0m     \u001b[38;5;28;01mif\u001b[39;00m param_values \u001b[38;5;129;01mis\u001b[39;00m \u001b[38;5;129;01mnot\u001b[39;00m \u001b[38;5;28;01mNone\u001b[39;00m:\n\u001b[0;32m    163\u001b[0m         model_key \u001b[38;5;241m=\u001b[39m \u001b[38;5;28mtuple\u001b[39m(param_values) \u001b[38;5;241m+\u001b[39m (run_count,)\n",
      "File \u001b[1;32mc:\\Users\\kevin\\anaconda3\\envs\\ABM\\Lib\\site-packages\\mesa\\batchrunner.py:192\u001b[0m, in \u001b[0;36mFixedBatchRunner.run_model\u001b[1;34m(self, model)\u001b[0m\n\u001b[0;32m    185\u001b[0m \u001b[38;5;28;01mdef\u001b[39;00m \u001b[38;5;21mrun_model\u001b[39m(\u001b[38;5;28mself\u001b[39m, model):\n\u001b[0;32m    186\u001b[0m \u001b[38;5;250m    \u001b[39m\u001b[38;5;124;03m\"\"\" Run a model object to completion, or until reaching max steps.\u001b[39;00m\n\u001b[0;32m    187\u001b[0m \n\u001b[0;32m    188\u001b[0m \u001b[38;5;124;03m    If your model runs in a non-standard way, this is the method to modify\u001b[39;00m\n\u001b[0;32m    189\u001b[0m \u001b[38;5;124;03m    in your subclass.\u001b[39;00m\n\u001b[0;32m    190\u001b[0m \n\u001b[0;32m    191\u001b[0m \u001b[38;5;124;03m    \"\"\"\u001b[39;00m\n\u001b[1;32m--> 192\u001b[0m     \u001b[38;5;28;01mwhile\u001b[39;00m model\u001b[38;5;241m.\u001b[39mrunning \u001b[38;5;129;01mand\u001b[39;00m model\u001b[38;5;241m.\u001b[39mschedule\u001b[38;5;241m.\u001b[39msteps \u001b[38;5;241m<\u001b[39m \u001b[38;5;28mself\u001b[39m\u001b[38;5;241m.\u001b[39mmax_steps:\n\u001b[0;32m    193\u001b[0m         model\u001b[38;5;241m.\u001b[39mstep()\n\u001b[0;32m    195\u001b[0m     \u001b[38;5;28;01mif\u001b[39;00m \u001b[38;5;28mhasattr\u001b[39m(model, \u001b[38;5;124m\"\u001b[39m\u001b[38;5;124mdatacollector\u001b[39m\u001b[38;5;124m\"\u001b[39m):\n",
      "\u001b[1;31mAttributeError\u001b[0m: 'Simulation' object has no attribute 'running'"
     ]
    }
   ],
   "source": [
    "# Set the repetitions, the amount of steps, and the amount of distinct values per variable\n",
    "replicates = 10\n",
    "max_steps = 100\n",
    "distinct_samples = 10\n",
    "\n",
    "# We get all our samples here\n",
    "param_values = saltelli.sample(problem, distinct_samples, calc_second_order=False)\n",
    "\n",
    "# READ NOTE BELOW CODE\n",
    "batch = BatchRunner(Simulation, \n",
    "                    max_steps=max_steps,\n",
    "                    variable_parameters={name:[] for name in problem['names']},\n",
    "                    model_reporters=model_reporters)\n",
    "\n",
    "count = 0\n",
    "data = pd.DataFrame(index=range(replicates*len(param_values)), \n",
    "                                columns=['Price', 'Density', 'Travel_time'])\n",
    "data['Run'], data['Sheep'], data['Wolves'] = None, None, None\n",
    "\n",
    "for i in range(replicates):\n",
    "    for vals in param_values: \n",
    "        # Change parameters that should be integers\n",
    "        vals = list(vals)\n",
    "        vals[2] = int(vals[2])\n",
    "        # Transform to dict with parameter names and their values\n",
    "        variable_parameters = {}\n",
    "        for name, val in zip(problem['names'], vals):\n",
    "            variable_parameters[name] = val\n",
    "\n",
    "        batch.run_iteration(variable_parameters, tuple(vals), count)\n",
    "        iteration_data = batch.get_model_vars_dataframe().iloc[count]\n",
    "        iteration_data['Run'] = count # Don't know what causes this, but iteration number is not correctly filled\n",
    "        data.iloc[count, 0:3] = vals\n",
    "        data.iloc[count, 3:6] = iteration_data\n",
    "        count += 1\n",
    "\n",
    "        clear_output()\n",
    "        print(f'{count / (len(param_values) * (replicates)) * 100:.2f}% done')"
   ]
  },
  {
   "cell_type": "markdown",
   "metadata": {},
   "source": [
    "Note that even though we use the BatchRunner provided by Mesa, we do not use its full capabilities. Normally, you would set all parameters properly (at line 25) and then run the batchrunner with `batch.run_all()`. However, the batchrunner will then proceed to run every possible combination of the variables you have passed it. We already have the combinations (samples) we need, because we got those from SALib.\n",
    "\n",
    "Preferably, you would want to save the results as a csv so you can load them more easily when analysing your results. \n",
    "\n",
    "Printing the data shows (a part of) our results:"
   ]
  },
  {
   "cell_type": "markdown",
   "metadata": {},
   "source": [
    "As you can see we have 800 distinct results. We have 3 variables, and we take 2 distinct values per sample per variable. A single sample from saltelli-sampling results in $2D+2$ different combinations for $D$ variables, $2(3)+2=8$ for our case (for more details, take a look at [Saltelli et al. 2010](http://www.sciencedirect.com/science/article/pii/S0010465509003087) and the [saltelli.sample() documentation](http://salib.readthedocs.io/en/latest/_modules/SALib/sample/saltelli.html)). Since we take $N=10$ samples, we get $N*(2D+2)=80$ combinations. We repeat each of these combinations 10 times, resulting in 800 results.\n",
    "Note that the above analysis includes second-order indices. For a case where you only wish to study first- and total-order effects, `calc_second_order` for `saltelli.sample()` is set to false, and a single sample is sufficiently composed of $D+2$ different combinations.\n",
    "\n",
    "We only consider 2 outputs in this example; the amount of sheep and wolves at the end of the simulation. Can you think of more outputs?"
   ]
  },
  {
   "cell_type": "markdown",
   "metadata": {},
   "source": [
    "### Analyzing\n",
    "\n",
    "Now we can use the `analyze()` method provided by SALib that performs Sobol analysis. "
   ]
  },
  {
   "cell_type": "code",
   "execution_count": null,
   "metadata": {},
   "outputs": [],
   "source": [
    "Si_Ferry_users = sobol.analyze(problem, data['Sheep'].values, print_to_console=True)"
   ]
  },
  {
   "cell_type": "markdown",
   "metadata": {},
   "source": [
    "This is not very insightfull. Let's make a function that can plot this."
   ]
  },
  {
   "cell_type": "code",
   "execution_count": null,
   "metadata": {},
   "outputs": [],
   "source": [
    "def plot_index(s, params, i, title=''):\n",
    "    \"\"\"\n",
    "    Creates a plot for Sobol sensitivity analysis that shows the contributions\n",
    "    of each parameter to the global sensitivity.\n",
    "\n",
    "    Args:\n",
    "        s (dict): dictionary {'S#': dict, 'S#_conf': dict} of dicts that hold\n",
    "            the values for a set of parameters\n",
    "        params (list): the parameters taken from s\n",
    "        i (str): string that indicates what order the sensitivity is.\n",
    "        title (str): title for the plot\n",
    "    \"\"\"\n",
    "\n",
    "    if i == '2':\n",
    "        p = len(params)\n",
    "        params = list(combinations(params, 2))\n",
    "        indices = s['S' + i].reshape((p ** 2))\n",
    "        indices = indices[~np.isnan(indices)]\n",
    "        errors = s['S' + i + '_conf'].reshape((p ** 2))\n",
    "        errors = errors[~np.isnan(errors)]\n",
    "    else:\n",
    "        indices = s['S' + i]\n",
    "        errors = s['S' + i + '_conf']\n",
    "        plt.figure()\n",
    "\n",
    "    l = len(indices)\n",
    "\n",
    "    plt.title(title)\n",
    "    plt.ylim([-0.2, len(indices) - 1 + 0.2])\n",
    "    plt.yticks(range(l), params)\n",
    "    plt.errorbar(indices, range(l), xerr=errors, linestyle='None', marker='o')\n",
    "    plt.axvline(0, c='k')"
   ]
  },
  {
   "cell_type": "markdown",
   "metadata": {},
   "source": [
    "We'll first plot 1st, 2nd, and total-order sensitivity for the output variable 'Sheep', then for 'Wolves'. "
   ]
  },
  {
   "cell_type": "code",
   "execution_count": null,
   "metadata": {},
   "outputs": [],
   "source": [
    "for Si in (Si_sheep, Si_wolves):\n",
    "    # First order\n",
    "    plot_index(Si, problem['names'], '1', 'First order sensitivity')\n",
    "    plt.show()\n",
    "\n",
    "    # Second order\n",
    "    plot_index(Si, problem['names'], '2', 'Second order sensitivity')\n",
    "    plt.show()\n",
    "\n",
    "    # Total order\n",
    "    plot_index(Si, problem['names'], 'T', 'Total order sensitivity')\n",
    "    plt.show()"
   ]
  }
 ],
 "metadata": {
  "kernelspec": {
   "display_name": "ABM",
   "language": "python",
   "name": "python3"
  },
  "language_info": {
   "codemirror_mode": {
    "name": "ipython",
    "version": 3
   },
   "file_extension": ".py",
   "mimetype": "text/x-python",
   "name": "python",
   "nbconvert_exporter": "python",
   "pygments_lexer": "ipython3",
   "version": "3.12.3"
  }
 },
 "nbformat": 4,
 "nbformat_minor": 2
}
